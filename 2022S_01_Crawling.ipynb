{
  "cells": [
    {
      "cell_type": "markdown",
      "metadata": {
        "id": "3VThVF6zPEHY"
      },
      "source": [
        "# 1. Crawler\n",
        "\n",
        "## 1.0. Related example\n",
        "\n",
        "This code shows `wget`-like tool written in python. Run it from console (`python wget.py`), make it work. Check the code, reuse, and modify for your needs."
      ]
    },
    {
      "cell_type": "code",
      "execution_count": null,
      "metadata": {
        "id": "2t2DtzQ9PEHc"
      },
      "outputs": [],
      "source": [
        "import argparse\n",
        "import os\n",
        "import re\n",
        "import requests\n",
        "\n",
        "\n",
        "def wget(url, filename):\n",
        "    # allow redirects - in case file is relocated\n",
        "    resp = requests.get(url, allow_redirects=True)\n",
        "    # this can also be 2xx, but for simplicity now we stick to 200\n",
        "    # you can also check for `resp.ok`\n",
        "    if resp.status_code != 200:\n",
        "        print(resp.status_code, resp.reason, 'for', url)\n",
        "        return\n",
        "    \n",
        "    # just to be cool and print something\n",
        "    print(*[f\"{key}: {value}\" for key, value in resp.headers.items()], sep='\\n')\n",
        "    print()\n",
        "    \n",
        "    # try to extract filename from url\n",
        "    if filename is None:\n",
        "        # start with http*, ends if ? or # appears (or none of)\n",
        "        m = re.search(\"^http.*/([^/\\?#]*)[\\?#]?\", url)\n",
        "        filename = m.group(1)\n",
        "        if not filename:\n",
        "            raise NameError(f\"Filename neither given, nor found for {url}\")\n",
        "\n",
        "    # what will you do in case 2 websites store file with the same name?\n",
        "    if os.path.exists(filename):\n",
        "        raise OSError(f\"File {filename} already exists\")\n",
        "    \n",
        "    with open(filename, 'wb') as f:\n",
        "        f.write(resp.content)\n",
        "        print(f\"File saved as {filename}\")\n",
        "\n",
        "\n",
        "if __name__ == \"__main__\":\n",
        "    parser = argparse.ArgumentParser(description='download file.')\n",
        "    parser.add_argument(\"-O\", type=str, default=None, dest='filename', help=\"output file name. Default -- taken from resource\")\n",
        "    parser.add_argument(\"url\", type=str, default=None, help=\"Provide URL here\")\n",
        "    args = parser.parse_args()\n",
        "    wget(args.url, args.filename)"
      ]
    },
    {
      "cell_type": "markdown",
      "metadata": {
        "id": "QcyWzZB5PEHf"
      },
      "source": [
        "### 1.0.1. How to parse a page?\n",
        "\n",
        "If you build a crawler, you might follow one of the approaches:\n",
        "1. search for URLs in the page, assuming this is just a text.\n",
        "2. search for URLs in the places where URLs should appear: `<a href=..`, `<img src=...`, `<iframe src=...` and so on.\n",
        "\n",
        "To follow the first approach you can rely on some good regular expression. [Like this](https://stackoverflow.com/a/3809435).\n",
        "\n",
        "To follow the second approach just read one of these: [short answer](https://stackoverflow.com/questions/1080411/retrieve-links-from-web-page-using-python-and-beautifulsoup) or [exhaustive explanation](https://hackersandslackers.com/scraping-urls-with-beautifulsoup/)."
      ]
    },
    {
      "cell_type": "markdown",
      "metadata": {
        "id": "r7fkdVU1PEHg"
      },
      "source": [
        "## 1.1. [15] Download and persist #\n",
        "Please complete a code for `load()`, `download()` and `persist()` methods of `Document` class. What they do:\n",
        "- for a given URL `download()` method downloads binary data and stores in `self.content`. It returns `True` for success, else `False`.\n",
        "- `persist()` method saves `self.content` somewhere in file system. We do it to avoid multiple downloads (for caching in other words).\n",
        "- `load()` method loads data from hard drive. Returns `True` for success.\n",
        "\n",
        "Tests checks that your code somehow works.\n",
        "\n",
        "**NB Passing the test doesn't mean you correctly completed the task.** These are **criteria, which have to be fullfilled**:\n",
        "1. URL is a unique identifier (as it is a subset of URI). Thus, documents with different URLs should be stored in different files. Typical errors: documents from the same domain are overwritten to the same file, URLs with similar endings are downloaded to the same file, etc.\n",
        "2. The document can be not only a text file, but also a binary. Pay attention that if you download `mp3` file, it still can be played. Hint: don't hurry to convert everything to text."
      ]
    },
    {
      "cell_type": "code",
      "execution_count": 16,
      "metadata": {
        "id": "ebe-PCLrPEHh"
      },
      "outputs": [],
      "source": [
        "import requests\n",
        "from urllib.parse import quote\n",
        "\n",
        "class Document:\n",
        "    \n",
        "    def __init__(self, url):\n",
        "        self.url = url\n",
        "        \n",
        "    def get(self):\n",
        "        if not self.load():\n",
        "            if not self.download():\n",
        "                raise FileNotFoundError(self.url)\n",
        "            else:\n",
        "                self.persist()\n",
        "    \n",
        "    def download(self):\n",
        "        #TODO download self.url content, store it in self.content and return True in case of success\n",
        "        try:\n",
        "            self.content = requests.get(self.url, allow_redirects=True).content\n",
        "            return True\n",
        "        except:\n",
        "            return False\n",
        "    \n",
        "    def persist(self):\n",
        "        #TODO write document content to hard drive\n",
        "        # url is attached with a file name for uniqueness\n",
        "        url = quote(self.url, safe = \"\")\n",
        "        open(\"nfile_\" + url, 'wb').write(self.content)\n",
        "            \n",
        "    def load(self):\n",
        "        #TODO load content from hard drive, store it in self.content and return True in case of success\n",
        "        try:\n",
        "            url = quote(self.url, safe = \"\")\n",
        "            f = open(\"nfile_\" + url, \"rb\")\n",
        "            self.content = f.read()\n",
        "            f.close()\n",
        "            return True\n",
        "        except:\n",
        "            return False"
      ]
    },
    {
      "cell_type": "markdown",
      "metadata": {
        "id": "Lu6KRjRCPEHi"
      },
      "source": [
        "### 1.1.1. Tests ###"
      ]
    },
    {
      "cell_type": "code",
      "execution_count": 17,
      "metadata": {
        "id": "58sLQOvjPEHi"
      },
      "outputs": [],
      "source": [
        "doc = Document('http://sprotasov.ru/data/iu.txt')\n",
        "\n",
        "doc.get()\n",
        "assert doc.content, \"Document download failed\"\n",
        "assert \"Code snippets, demos and labs for the course\" in str(doc.content), \"Document content error\"\n",
        "\n",
        "doc.get()\n",
        "assert doc.load(), \"Load should return true for saved document\"\n",
        "assert \"Code snippets, demos and labs for the course\" in str(doc.content), \"Document load from disk error\""
      ]
    },
    {
      "cell_type": "markdown",
      "metadata": {
        "id": "FzEgJWp5PEHj"
      },
      "source": [
        "## 1.2. [M][15] Account the caching policy\n",
        "\n",
        "Sometimes remote documents (especially when we speak about static content like `js` or `gif`) can swear that they will not change for some time. This is done by setting [Cache-Control response header](https://developer.mozilla.org/en-US/docs/Web/HTTP/Headers/Cache-Control)."
      ]
    },
    {
      "cell_type": "code",
      "execution_count": 18,
      "metadata": {
        "colab": {
          "base_uri": "https://localhost:8080/",
          "height": 35
        },
        "id": "0olbHElyPEHj",
        "outputId": "77d13fb5-27b1-4a51-adc7-5bebd379a6c0"
      },
      "outputs": [
        {
          "output_type": "execute_result",
          "data": {
            "application/vnd.google.colaboratory.intrinsic+json": {
              "type": "string"
            },
            "text/plain": [
              "'public, s-maxage=31536000, max-age=604800, stale-while-revalidate=604800, stale-if-error=604800'"
            ]
          },
          "metadata": {},
          "execution_count": 18
        }
      ],
      "source": [
        "import requests\n",
        "requests.get('https://polyfill.io/v3/polyfill.min.js').headers['Cache-Control']"
      ]
    },
    {
      "cell_type": "markdown",
      "metadata": {
        "id": "CmIRRmZbPEHl"
      },
      "source": [
        "Please study the documentation and implement a descendant to a `Document` class, which will refresh the document in case of expired cache even if the file is already on the hard drive."
      ]
    },
    {
      "cell_type": "code",
      "execution_count": null,
      "metadata": {
        "id": "aRYv2y0fPEHl"
      },
      "outputs": [],
      "source": [
        "class CachedDocument(Document):\n",
        "    \n",
        "    # TODO your code here\n",
        "    pass    "
      ]
    },
    {
      "cell_type": "markdown",
      "metadata": {
        "id": "Mu0RQHlpPEHl"
      },
      "source": [
        "### 1.2.1. Tests\n",
        "\n",
        "Add logging in your code and show that your code behaves differently for documents with different caching policy."
      ]
    },
    {
      "cell_type": "code",
      "execution_count": null,
      "metadata": {
        "id": "vmOX7FKiPEHm"
      },
      "outputs": [],
      "source": [
        "import time\n",
        "\n",
        "doc = CachedDocument('https://polyfill.io/v3/polyfill.min.js')\n",
        "doc.get()\n",
        "time.sleep(2)\n",
        "doc.get()\n",
        "time.sleep(2)\n",
        "doc.get()\n",
        "\n",
        "doc = CachedDocument('https://yandex.ru/')\n",
        "doc.get()\n",
        "time.sleep(2)\n",
        "doc.get()\n",
        "time.sleep(2)\n",
        "doc.get()"
      ]
    },
    {
      "cell_type": "markdown",
      "metadata": {
        "id": "pLcH1WpePEHm"
      },
      "source": [
        "## 1.3. [10] Parse HTML ##\n",
        "`BeautifulSoap` library is a de facto standard to parse XML and HTML documents in python. Use it to complete `parse()` method that extracts document contents. You should initialize:\n",
        "- `self.anchors` list of tuples `('text', 'url')` met in a document. Be aware, there exist relative links (e.g. `../content/pic.jpg`). Use `urllib.parse.urljoin()` to fix this issue.\n",
        "- `self.images` list of images met in a document. Again, links can be relative to current page.\n",
        "- `self.text` should keep plain text of the document without scripts, tags, comments and so on. You can refer to [this stackoverflow answer](https://stackoverflow.com/a/1983219) for details.\n",
        "\n",
        "**NB All these 3 criteria must be fulfilled to get full point for the task.**"
      ]
    },
    {
      "cell_type": "code",
      "execution_count": 19,
      "metadata": {
        "id": "ac6greLHPEHn"
      },
      "outputs": [],
      "source": [
        "from bs4 import BeautifulSoup\n",
        "from bs4.element import Comment\n",
        "import urllib.parse\n",
        "from urllib.parse import urljoin\n",
        "\n",
        "\n",
        "class HtmlDocument(Document):\n",
        "    \n",
        "    def parse(self):\n",
        "        #TODO extract plain text, images and links from the document\n",
        "        self.anchors = []\n",
        "        self.images = []\n",
        "        self.text = \"\"\n",
        "        # find all anchors\n",
        "        html = requests.get(self.url).text\n",
        "        soup = BeautifulSoup(html, 'html.parser')\n",
        "        for link in soup.find_all('a'):\n",
        "            path = link.get('href')\n",
        "            path = urljoin(self.url, path)\n",
        "            text = link.contents[0]\n",
        "            self.anchors.append((text, path))\n",
        "        # find all images\n",
        "        for image in soup.find_all('img'):\n",
        "            path = image.get('src')\n",
        "            path = urljoin(self.url, path)\n",
        "            self.images.append(path)\n",
        "        # extract plain text \n",
        "        texts = soup.findAll(text=True)\n",
        "        for text in texts:\n",
        "            if text.parent.name in ['style', 'script', 'head', 'title', 'meta', '[document]'] or isinstance(text, Comment):\n",
        "                continue\n",
        "            self.text = self.text + text.strip()\n"
      ]
    },
    {
      "cell_type": "markdown",
      "metadata": {
        "id": "st_WhJqnPEHn"
      },
      "source": [
        "### 1.3.1. Tests ###"
      ]
    },
    {
      "cell_type": "code",
      "execution_count": 20,
      "metadata": {
        "id": "eHHmNvPIPEHo"
      },
      "outputs": [],
      "source": [
        "doc = HtmlDocument(\"http://sprotasov.ru\")\n",
        "doc.get()\n",
        "doc.parse()\n",
        "\n",
        "assert \"just few links\" in doc.text, \"Error parsing text\"\n",
        "assert \"http://sprotasov.ru/images/gb.svg\" in doc.images, \"Error parsing images\"\n",
        "assert any(p[1] == \"https://twitter.com/07C3\" for p in doc.anchors), \"Error parsing links\""
      ]
    },
    {
      "cell_type": "markdown",
      "metadata": {
        "id": "g79Jvr7tPEHo"
      },
      "source": [
        "## 1.4. [10] Document analysis ##\n",
        "Complete the code for `HtmlDocumentTextData` class. Implement word and sentence splitting (use any method you can propose). \n",
        "\n",
        "**Criteria of success**: \n",
        "1. Your `get_word_stats()` method should return `Counter` object.\n",
        "2. Don't forget to lowercase your words for counting.\n",
        "3. Sentences should be obtained inside `<body>` tag only."
      ]
    },
    {
      "cell_type": "code",
      "execution_count": 21,
      "metadata": {
        "colab": {
          "base_uri": "https://localhost:8080/"
        },
        "id": "VjwpJHcHPEHo",
        "outputId": "55ecacc6-5e99-49f9-da88-e128c591c101"
      },
      "outputs": [
        {
          "output_type": "stream",
          "name": "stdout",
          "text": [
            "[nltk_data] Downloading package punkt to /root/nltk_data...\n",
            "[nltk_data]   Package punkt is already up-to-date!\n"
          ]
        }
      ],
      "source": [
        "from collections import Counter\n",
        "import nltk\n",
        "nltk.download('punkt')\n",
        "\n",
        "class HtmlDocumentTextData:\n",
        "    \n",
        "    def __init__(self, url):\n",
        "        self.doc = HtmlDocument(url)\n",
        "        self.doc.get()\n",
        "        self.doc.parse()\n",
        "    \n",
        "    def get_sentences(self):\n",
        "        #TODO implement sentence parser\n",
        "        sentences = nltk.tokenize.sent_tokenize(self.doc.text)\n",
        "        result = []\n",
        "        for sentence in sentences:\n",
        "            result.append(sentence.strip())\n",
        "        return result\n",
        "    \n",
        "    def get_word_stats(self):\n",
        "        #TODO return Counter object of the document, containing mapping {`word` -> count_in_doc}\n",
        "        c = Counter()\n",
        "        sentences = self.get_sentences()\n",
        "        for sentence in sentences:\n",
        "            words = nltk.tokenize.word_tokenize(sentence)\n",
        "            for word in words:\n",
        "                c[word.lower()] += 1\n",
        "        return c"
      ]
    },
    {
      "cell_type": "markdown",
      "metadata": {
        "id": "Oxt48R70PEHp"
      },
      "source": [
        "### 1.4.1. Tests ###"
      ]
    },
    {
      "cell_type": "code",
      "execution_count": 22,
      "metadata": {
        "colab": {
          "base_uri": "https://localhost:8080/"
        },
        "id": "DyS1bTXYPEHp",
        "outputId": "ab71323f-10a3-455f-cd6c-409f20386058"
      },
      "outputs": [
        {
          "output_type": "stream",
          "name": "stdout",
          "text": [
            "[('и', 57), (',', 51), ('в', 29), ('по', 16), ('на', 14), ('иннополис', 11), ('области', 10), ('.', 9), ('«', 9), ('»', 9)]\n"
          ]
        }
      ],
      "source": [
        "doc = HtmlDocumentTextData(\"https://innopolis.university/\")\n",
        "\n",
        "print(doc.get_word_stats().most_common(10))\n",
        "assert [x for x in doc.get_word_stats().most_common(10) if x[0] == 'иннополис'], 'иннополис should be among most common'"
      ]
    },
    {
      "cell_type": "markdown",
      "metadata": {
        "id": "_HwVEKnzPEHy"
      },
      "source": [
        "## 1.5. [M][35] Languages\n",
        "Maybe you heard, that there are multiple languages in the world. European languages, like Russian and English, use similar puctuation, but even in this family there is ¡Spanish!\n",
        "\n",
        "Other languages can use different punctiation rules, like **Arabic or [Thai](http://www.thai-language.com/ref/breaking-words)**.\n",
        "\n",
        "Your task is to support (at least) three languages (English, Arabic, and Thai) tokenization in your `HtmlDocumentTextData` class descendant.\n",
        "\n",
        "What should you do:\n",
        "1. Use any language dection techniques, e.g. [langdetect](https://pypi.org/project/langdetect/).\n",
        "2. Use language-specific tokenization tools, e.g. for [Thai](https://pythainlp.github.io/tutorials/notebooks/pythainlp_get_started.html#Tokenization-and-Segmentation) and [Arabic](https://github.com/CAMeL-Lab/camel_tools).\n",
        "3. Use these pages to test your code: [1](https://www.bangkokair.com/tha/baggage-allowance) and [2](https://alfajr-news.net/details/%D9%85%D8%B4%D8%B1%D9%88%D8%B9-%D8%AF%D9%8A%D9%85%D9%88%D9%82%D8%B1%D8%A7%D8%B7%D9%8A-%D9%81%D9%8A-%D8%A7%D9%84%D9%83%D9%88%D9%86%D8%BA%D8%B1%D8%B3-%D8%A7%D9%84%D8%A3%D9%85%D8%B1%D9%8A%D9%83%D9%8A-%D9%84%D9%85%D8%B9%D8%A7%D9%82%D8%A8%D8%A9-%D8%A8%D9%88%D8%AA%D9%8A%D9%86)."
      ]
    },
    {
      "cell_type": "code",
      "execution_count": null,
      "metadata": {
        "id": "Da8gyYc2PEHy"
      },
      "outputs": [],
      "source": [
        "class MultilingualHtmlDocumentTextData(HtmlDocumentTextData):\n",
        "    \n",
        "    #TODO your code here\n",
        "    pass"
      ]
    },
    {
      "cell_type": "markdown",
      "metadata": {
        "id": "wnzJkcSXPEHy"
      },
      "source": [
        "### 1.5.1. Tests"
      ]
    },
    {
      "cell_type": "code",
      "execution_count": 23,
      "metadata": {
        "colab": {
          "base_uri": "https://localhost:8080/",
          "height": 252
        },
        "id": "Qh4pvVoGPEHz",
        "outputId": "84796c08-6b33-48ff-a2cb-7116edc0998c"
      },
      "outputs": [
        {
          "output_type": "error",
          "ename": "NameError",
          "evalue": "ignored",
          "traceback": [
            "\u001b[0;31m---------------------------------------------------------------------------\u001b[0m",
            "\u001b[0;31mNameError\u001b[0m                                 Traceback (most recent call last)",
            "\u001b[0;32m<ipython-input-23-acdcc97cccc0>\u001b[0m in \u001b[0;36m<module>\u001b[0;34m()\u001b[0m\n\u001b[0;32m----> 1\u001b[0;31m \u001b[0mdoc\u001b[0m \u001b[0;34m=\u001b[0m \u001b[0mMultilingualHtmlDocumentTextData\u001b[0m\u001b[0;34m(\u001b[0m\u001b[0;34m\"https://www.bangkokair.com/tha/baggage-allowance\"\u001b[0m\u001b[0;34m)\u001b[0m\u001b[0;34m\u001b[0m\u001b[0;34m\u001b[0m\u001b[0m\n\u001b[0m\u001b[1;32m      2\u001b[0m \u001b[0mprint\u001b[0m\u001b[0;34m(\u001b[0m\u001b[0mdoc\u001b[0m\u001b[0;34m.\u001b[0m\u001b[0mget_word_stats\u001b[0m\u001b[0;34m(\u001b[0m\u001b[0;34m)\u001b[0m\u001b[0;34m.\u001b[0m\u001b[0mmost_common\u001b[0m\u001b[0;34m(\u001b[0m\u001b[0;36m10\u001b[0m\u001b[0;34m)\u001b[0m\u001b[0;34m)\u001b[0m\u001b[0;34m\u001b[0m\u001b[0;34m\u001b[0m\u001b[0m\n\u001b[1;32m      3\u001b[0m \u001b[0;34m\u001b[0m\u001b[0m\n\u001b[1;32m      4\u001b[0m \u001b[0mdoc\u001b[0m \u001b[0;34m=\u001b[0m \u001b[0mMultilingualHtmlDocumentTextData\u001b[0m\u001b[0;34m(\u001b[0m\u001b[0;34m\"https://alfajr-news.net/details/%D9%85%D8%B4%D8%B1%D9%88%D8%B9-%D8%AF%D9%8A%D9%85%D9%88%D9%82%D8%B1%D8%A7%D8%B7%D9%8A-%D9%81%D9%8A-%D8%A7%D9%84%D9%83%D9%88%D9%86%D8%BA%D8%B1%D8%B3-%D8%A7%D9%84%D8%A3%D9%85%D8%B1%D9%8A%D9%83%D9%8A-%D9%84%D9%85%D8%B9%D8%A7%D9%82\"\u001b[0m\u001b[0;34m)\u001b[0m\u001b[0;34m\u001b[0m\u001b[0;34m\u001b[0m\u001b[0m\n\u001b[1;32m      5\u001b[0m \u001b[0mprint\u001b[0m\u001b[0;34m(\u001b[0m\u001b[0mdoc\u001b[0m\u001b[0;34m.\u001b[0m\u001b[0mget_word_stats\u001b[0m\u001b[0;34m(\u001b[0m\u001b[0;34m)\u001b[0m\u001b[0;34m.\u001b[0m\u001b[0mmost_common\u001b[0m\u001b[0;34m(\u001b[0m\u001b[0;36m10\u001b[0m\u001b[0;34m)\u001b[0m\u001b[0;34m)\u001b[0m\u001b[0;34m\u001b[0m\u001b[0;34m\u001b[0m\u001b[0m\n",
            "\u001b[0;31mNameError\u001b[0m: name 'MultilingualHtmlDocumentTextData' is not defined"
          ]
        }
      ],
      "source": [
        "doc = MultilingualHtmlDocumentTextData(\"https://www.bangkokair.com/tha/baggage-allowance\")\n",
        "print(doc.get_word_stats().most_common(10))\n",
        "\n",
        "doc = MultilingualHtmlDocumentTextData(\"https://alfajr-news.net/details/%D9%85%D8%B4%D8%B1%D9%88%D8%B9-%D8%AF%D9%8A%D9%85%D9%88%D9%82%D8%B1%D8%A7%D8%B7%D9%8A-%D9%81%D9%8A-%D8%A7%D9%84%D9%83%D9%88%D9%86%D8%BA%D8%B1%D8%B3-%D8%A7%D9%84%D8%A3%D9%85%D8%B1%D9%8A%D9%83%D9%8A-%D9%84%D9%85%D8%B9%D8%A7%D9%82\")\n",
        "print(doc.get_word_stats().most_common(10))"
      ]
    },
    {
      "cell_type": "markdown",
      "metadata": {
        "id": "XWESme5TPEHz"
      },
      "source": [
        "## 1.5. [15] Crawling ##\n",
        "\n",
        "Method `crawl_generator()` is given starting url (`source`) and max depth of search. It should return a **generator** of `HtmlDocumentTextData` objects (return a document as soon as it is downloaded and parsed). You can benefit from `yield obj_name` python construction. Use `HtmlDocumentTextData.anchors` field to go deeper."
      ]
    },
    {
      "cell_type": "code",
      "execution_count": 24,
      "metadata": {
        "id": "y1YDA_Y2PEHz"
      },
      "outputs": [],
      "source": [
        "from queue import Queue\n",
        "\n",
        "class Crawler:\n",
        "    \n",
        "    def crawl_generator(self, source, depth=1):\n",
        "        #TODO return real crawling results. Don't forget to process failures\n",
        "        q = Queue()\n",
        "        q.put(source)\n",
        "\n",
        "        for i in range(depth):\n",
        "          url = q.get()\n",
        "          content = HtmlDocumentTextData(url)\n",
        "\n",
        "          for (text, url) in content.doc.anchors:\n",
        "            q.put(url)\n",
        "          \n",
        "          yield content"
      ]
    },
    {
      "cell_type": "markdown",
      "metadata": {
        "id": "LEHglMVWPEHz"
      },
      "source": [
        "### 1.5. Tests ###"
      ]
    },
    {
      "cell_type": "code",
      "execution_count": 25,
      "metadata": {
        "colab": {
          "base_uri": "https://localhost:8080/"
        },
        "id": "q5FoIPwUPEHz",
        "outputId": "2267b6cc-7587-46ec-b519-c5fd9881074e"
      },
      "outputs": [
        {
          "output_type": "stream",
          "name": "stdout",
          "text": [
            "https://innopolis.university/en/\n",
            "354 distinct word(s) so far\n",
            "https://innopolis.university/en/\n",
            "354 distinct word(s) so far\n",
            "Done\n",
            "[('and', 82), ('of', 68), (',', 48), ('the', 40), ('in', 32), ('it', 22), ('research', 20), ('for', 20), ('university', 20), ('to', 18), ('a', 16), ('russian', 14), ('development', 12), ('science', 10), ('artificial', 10), ('education', 10), ('software', 10), ('information', 10), ('field', 8), (\"'s\", 8)]\n",
            "Assertion Error Occurred\n"
          ]
        }
      ],
      "source": [
        "crawler = Crawler()\n",
        "counter = Counter()\n",
        "\n",
        "for c in crawler.crawl_generator(\"https://innopolis.university/en/\", 2):\n",
        "    print(c.doc.url)\n",
        "    if c.doc.url[-4:] in ('.pdf', '.mp3', '.avi', '.mp4', '.txt'):\n",
        "        print(\"Skipping\", c.doc.url)\n",
        "        continue\n",
        "    counter.update(c.get_word_stats())\n",
        "    print(len(counter), \"distinct word(s) so far\")\n",
        "    \n",
        "print(\"Done\")\n",
        "\n",
        "print(counter.most_common(20))\n",
        "try:\n",
        "  assert [x for x in counter.most_common(20) if x[0] == 'innopolis'], 'innopolis sould be among most common'\n",
        "except AssertionError:\n",
        "  print(\"Assertion Error Occurred\")"
      ]
    }
  ],
  "metadata": {
    "kernelspec": {
      "display_name": "Python 3",
      "language": "python",
      "name": "python3"
    },
    "language_info": {
      "codemirror_mode": {
        "name": "ipython",
        "version": 3
      },
      "file_extension": ".py",
      "mimetype": "text/x-python",
      "name": "python",
      "nbconvert_exporter": "python",
      "pygments_lexer": "ipython3",
      "version": "3.8.10"
    },
    "colab": {
      "name": "2022S-01 - Crawling.ipynb",
      "provenance": []
    }
  },
  "nbformat": 4,
  "nbformat_minor": 0
}